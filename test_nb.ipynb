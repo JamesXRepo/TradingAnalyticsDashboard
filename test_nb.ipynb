{
 "cells": [
  {
   "cell_type": "code",
   "execution_count": 1,
   "metadata": {},
   "outputs": [],
   "source": [
    "import Load\n",
    "import local_script_functions.insert as insert\n",
    "import PostgreSQLConnector as pg"
   ]
  },
  {
   "cell_type": "code",
   "execution_count": 2,
   "metadata": {},
   "outputs": [
    {
     "name": "stdout",
     "output_type": "stream",
     "text": [
      "Connected to database successfully\n"
     ]
    },
    {
     "ename": "AttributeError",
     "evalue": "'builtin_function_or_method' object has no attribute 'close'",
     "output_type": "error",
     "traceback": [
      "\u001b[1;31m---------------------------------------------------------------------------\u001b[0m",
      "\u001b[1;31mAttributeError\u001b[0m                            Traceback (most recent call last)",
      "Cell \u001b[1;32mIn[2], line 22\u001b[0m\n\u001b[0;32m     18\u001b[0m result \u001b[38;5;241m=\u001b[39m Load\u001b[38;5;241m.\u001b[39mLoad\u001b[38;5;241m.\u001b[39mpolyon_LoadData(ticker,from_date,to_date,timespan,multiper,limit,api_key)\n\u001b[0;32m     20\u001b[0m insert\u001b[38;5;241m.\u001b[39minsert_data_stg(result,destination,conn)\n\u001b[1;32m---> 22\u001b[0m \u001b[43mpg\u001b[49m\u001b[38;5;241;43m.\u001b[39;49m\u001b[43mPostgreSQLConnector\u001b[49m\u001b[38;5;241;43m.\u001b[39;49m\u001b[43mdisconnect\u001b[49m\u001b[43m(\u001b[49m\u001b[43mconn\u001b[49m\u001b[43m)\u001b[49m\n",
      "File \u001b[1;32mc:\\Users\\yimin\\source\\repos\\Stock_Analyzer\\PostgreSQLConnector.py:27\u001b[0m, in \u001b[0;36mPostgreSQLConnector.disconnect\u001b[1;34m(connection)\u001b[0m\n\u001b[0;32m     24\u001b[0m \u001b[38;5;129m@staticmethod\u001b[39m\n\u001b[0;32m     25\u001b[0m \u001b[38;5;28;01mdef\u001b[39;00m \u001b[38;5;21mdisconnect\u001b[39m(connection):\n\u001b[0;32m     26\u001b[0m     \u001b[38;5;28;01mif\u001b[39;00m \u001b[38;5;28mhasattr\u001b[39m(connection, \u001b[38;5;124m'\u001b[39m\u001b[38;5;124mcursor\u001b[39m\u001b[38;5;124m'\u001b[39m):\n\u001b[1;32m---> 27\u001b[0m         \u001b[43mconnection\u001b[49m\u001b[38;5;241;43m.\u001b[39;49m\u001b[43mcursor\u001b[49m\u001b[38;5;241;43m.\u001b[39;49m\u001b[43mclose\u001b[49m()\n\u001b[0;32m     28\u001b[0m     \u001b[38;5;28;01mif\u001b[39;00m \u001b[38;5;28mhasattr\u001b[39m(connection, \u001b[38;5;124m'\u001b[39m\u001b[38;5;124mconnection\u001b[39m\u001b[38;5;124m'\u001b[39m):\n\u001b[0;32m     29\u001b[0m         connection\u001b[38;5;241m.\u001b[39mclose()\n",
      "\u001b[1;31mAttributeError\u001b[0m: 'builtin_function_or_method' object has no attribute 'close'"
     ]
    }
   ],
   "source": [
    "ticker = 'AMD'\n",
    "from_date = '2023-01-09'\n",
    "to_date = '2024-03-20'\n",
    "timespan = 'minute'\n",
    "multiper = '1'\n",
    "limit = '2500'\n",
    "api_key = '2cxEUVsD5ioHFF7dTEyFUun0j4FtQRIL'\n",
    "destination = 'stg_tradinganalytics_sch.ml_data_1m_stg'\n",
    "\n",
    "user = 'postgres'\n",
    "password = 'password'\n",
    "host = 'localhost'\n",
    "port = '5433'\n",
    "database = 'tradinganalytics_db'\n",
    "\n",
    "conn = pg.PostgreSQLConnector.connect(database,user,password,host,port)\n",
    "\n",
    "result = Load.Load.polyon_LoadData(ticker,from_date,to_date,timespan,multiper,limit,api_key)\n",
    "\n",
    "insert.insert_data_stg(result,destination,conn)\n",
    "\n",
    "pg.PostgreSQLConnector.disconnect(conn)"
   ]
  }
 ],
 "metadata": {
  "kernelspec": {
   "display_name": "Python 3",
   "language": "python",
   "name": "python3"
  },
  "language_info": {
   "codemirror_mode": {
    "name": "ipython",
    "version": 3
   },
   "file_extension": ".py",
   "mimetype": "text/x-python",
   "name": "python",
   "nbconvert_exporter": "python",
   "pygments_lexer": "ipython3",
   "version": "3.11.4"
  }
 },
 "nbformat": 4,
 "nbformat_minor": 2
}
