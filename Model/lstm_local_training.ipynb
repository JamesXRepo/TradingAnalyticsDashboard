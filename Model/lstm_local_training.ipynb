{
 "cells": [
  {
   "cell_type": "markdown",
   "metadata": {},
   "source": [
    "# Multivariate LSTM Model Development (Local)\n",
    "The purpose of this notebook is to construct multivariate LSTM model to predict feature stock prices. Feature construction and data integrity check has already been completed on data being used to construct this model. "
   ]
  },
  {
   "cell_type": "markdown",
   "metadata": {},
   "source": [
    "## Load training and testing data\n"
   ]
  },
  {
   "cell_type": "code",
   "execution_count": 1,
   "metadata": {},
   "outputs": [],
   "source": [
    "# Import Libraries\n",
    "\n",
    "import psycopg2\n",
    "from psycopg2 import sql\n",
    "import pandas as pd"
   ]
  },
  {
   "cell_type": "code",
   "execution_count": 73,
   "metadata": {},
   "outputs": [],
   "source": [
    "# Functions and variables to query local postgresql server\n",
    "\n",
    "USER = 'postgres'\n",
    "PASSWORD = 'password'\n",
    "HOST = 'localhost'\n",
    "PORT = '5433'\n",
    "DATABASE = 'tradinganalytics_db'\n",
    "\n",
    "#Initialize Database Connection\n",
    "host = HOST\n",
    "username = USER\n",
    "password = PASSWORD\n",
    "port = PORT\n",
    "database = DATABASE\n",
    "\n",
    "def query(query,connection):\n",
    "    cursor = connection.cursor()\n",
    "    try:\n",
    "        cursor.execute(query)\n",
    "        result = cursor.fetchall()\n",
    "        cursor.close()\n",
    "        return result\n",
    "    except Exception as e:\n",
    "        print(\"Error executing query:\", e)\n",
    "        return None"
   ]
  },
  {
   "cell_type": "code",
   "execution_count": 80,
   "metadata": {},
   "outputs": [],
   "source": [
    "# Get ml data from postgresql local and convert to dataframe\n",
    "\n",
    "conn = psycopg2.connect(\n",
    "    host = host,\n",
    "    database = database,\n",
    "    user = username,\n",
    "    port = port,\n",
    "    password = password\n",
    ")\n",
    "\n",
    "ticker = \"AMD\"\n",
    "\n",
    "query_string = \"select datetime, close, open_close_diff, cumulative_volume from dm_tradinganalytics_sch.view_ml_training_data where ticker = \" + \"'\" + ticker + \"'\"\n",
    "\n",
    "result = query(query_string,conn)\n",
    "\n",
    "df = pd.DataFrame(result,columns=[\"datetime\",\"close\",\"open_close_diff\",\"cumulative_volume\"])\n",
    "\n",
    "conn.close()"
   ]
  },
  {
   "cell_type": "code",
   "execution_count": 81,
   "metadata": {},
   "outputs": [
    {
     "data": {
      "text/html": [
       "<div>\n",
       "<style scoped>\n",
       "    .dataframe tbody tr th:only-of-type {\n",
       "        vertical-align: middle;\n",
       "    }\n",
       "\n",
       "    .dataframe tbody tr th {\n",
       "        vertical-align: top;\n",
       "    }\n",
       "\n",
       "    .dataframe thead th {\n",
       "        text-align: right;\n",
       "    }\n",
       "</style>\n",
       "<table border=\"1\" class=\"dataframe\">\n",
       "  <thead>\n",
       "    <tr style=\"text-align: right;\">\n",
       "      <th></th>\n",
       "      <th>datetime</th>\n",
       "      <th>close</th>\n",
       "      <th>open_close_diff</th>\n",
       "      <th>cumulative_volume</th>\n",
       "    </tr>\n",
       "  </thead>\n",
       "  <tbody>\n",
       "    <tr>\n",
       "      <th>0</th>\n",
       "      <td>2023-12-27 09:30:00</td>\n",
       "      <td>144.31390380859375</td>\n",
       "      <td>-0.40609741210937</td>\n",
       "      <td>-3441430</td>\n",
       "    </tr>\n",
       "    <tr>\n",
       "      <th>1</th>\n",
       "      <td>2023-12-27 09:35:00</td>\n",
       "      <td>143.9654998779297</td>\n",
       "      <td>-0.34449768066405</td>\n",
       "      <td>-5166410</td>\n",
       "    </tr>\n",
       "    <tr>\n",
       "      <th>2</th>\n",
       "      <td>2023-12-27 09:40:00</td>\n",
       "      <td>144.44180297851562</td>\n",
       "      <td>0.49180603027342</td>\n",
       "      <td>-3880099</td>\n",
       "    </tr>\n",
       "    <tr>\n",
       "      <th>3</th>\n",
       "      <td>2023-12-27 09:45:00</td>\n",
       "      <td>144.09060668945312</td>\n",
       "      <td>-0.37629699707032</td>\n",
       "      <td>-5034796</td>\n",
       "    </tr>\n",
       "    <tr>\n",
       "      <th>4</th>\n",
       "      <td>2023-12-27 09:50:00</td>\n",
       "      <td>143.7899932861328</td>\n",
       "      <td>-0.2900085449219</td>\n",
       "      <td>-5967734</td>\n",
       "    </tr>\n",
       "  </tbody>\n",
       "</table>\n",
       "</div>"
      ],
      "text/plain": [
       "             datetime               close    open_close_diff cumulative_volume\n",
       "0 2023-12-27 09:30:00  144.31390380859375  -0.40609741210937          -3441430\n",
       "1 2023-12-27 09:35:00   143.9654998779297  -0.34449768066405          -5166410\n",
       "2 2023-12-27 09:40:00  144.44180297851562   0.49180603027342          -3880099\n",
       "3 2023-12-27 09:45:00  144.09060668945312  -0.37629699707032          -5034796\n",
       "4 2023-12-27 09:50:00   143.7899932861328   -0.2900085449219          -5967734"
      ]
     },
     "execution_count": 81,
     "metadata": {},
     "output_type": "execute_result"
    }
   ],
   "source": [
    "df.head()"
   ]
  },
  {
   "cell_type": "markdown",
   "metadata": {},
   "source": [
    "## Construct MultiVariate LSTM Model"
   ]
  },
  {
   "cell_type": "code",
   "execution_count": 70,
   "metadata": {},
   "outputs": [],
   "source": [
    "# Import ml Libraries\n",
    "import tensorflow as tf\n",
    "from sklearn.preprocessing import StandardScaler\n",
    "import numpy as np"
   ]
  },
  {
   "cell_type": "code",
   "execution_count": 82,
   "metadata": {},
   "outputs": [],
   "source": [
    "stock_dates = pd.to_datetime(df['datetime']) # Save datetime column for future plotting\n",
    "\n",
    "df_for_modeling = df.drop('datetime',axis=1) # Remove datetime for training data set"
   ]
  },
  {
   "cell_type": "code",
   "execution_count": 83,
   "metadata": {},
   "outputs": [
    {
     "data": {
      "text/html": [
       "<div>\n",
       "<style scoped>\n",
       "    .dataframe tbody tr th:only-of-type {\n",
       "        vertical-align: middle;\n",
       "    }\n",
       "\n",
       "    .dataframe tbody tr th {\n",
       "        vertical-align: top;\n",
       "    }\n",
       "\n",
       "    .dataframe thead th {\n",
       "        text-align: right;\n",
       "    }\n",
       "</style>\n",
       "<table border=\"1\" class=\"dataframe\">\n",
       "  <thead>\n",
       "    <tr style=\"text-align: right;\">\n",
       "      <th></th>\n",
       "      <th>close</th>\n",
       "      <th>open_close_diff</th>\n",
       "      <th>cumulative_volume</th>\n",
       "    </tr>\n",
       "  </thead>\n",
       "  <tbody>\n",
       "    <tr>\n",
       "      <th>0</th>\n",
       "      <td>144.31390380859375</td>\n",
       "      <td>-0.40609741210937</td>\n",
       "      <td>-3441430</td>\n",
       "    </tr>\n",
       "    <tr>\n",
       "      <th>1</th>\n",
       "      <td>143.9654998779297</td>\n",
       "      <td>-0.34449768066405</td>\n",
       "      <td>-5166410</td>\n",
       "    </tr>\n",
       "    <tr>\n",
       "      <th>2</th>\n",
       "      <td>144.44180297851562</td>\n",
       "      <td>0.49180603027342</td>\n",
       "      <td>-3880099</td>\n",
       "    </tr>\n",
       "    <tr>\n",
       "      <th>3</th>\n",
       "      <td>144.09060668945312</td>\n",
       "      <td>-0.37629699707032</td>\n",
       "      <td>-5034796</td>\n",
       "    </tr>\n",
       "    <tr>\n",
       "      <th>4</th>\n",
       "      <td>143.7899932861328</td>\n",
       "      <td>-0.2900085449219</td>\n",
       "      <td>-5967734</td>\n",
       "    </tr>\n",
       "  </tbody>\n",
       "</table>\n",
       "</div>"
      ],
      "text/plain": [
       "                close    open_close_diff cumulative_volume\n",
       "0  144.31390380859375  -0.40609741210937          -3441430\n",
       "1   143.9654998779297  -0.34449768066405          -5166410\n",
       "2  144.44180297851562   0.49180603027342          -3880099\n",
       "3  144.09060668945312  -0.37629699707032          -5034796\n",
       "4   143.7899932861328   -0.2900085449219          -5967734"
      ]
     },
     "execution_count": 83,
     "metadata": {},
     "output_type": "execute_result"
    }
   ],
   "source": [
    "df_for_modeling.head()"
   ]
  },
  {
   "cell_type": "code",
   "execution_count": 84,
   "metadata": {},
   "outputs": [],
   "source": [
    "# Data normalization\n",
    "scaler = StandardScaler()\n",
    "scaler = scaler.fit(df_for_modeling)\n",
    "scaled_df = scaler.transform(df_for_modeling)\n",
    "\n",
    "# Parse data to train and test\n",
    "percent80index = int(len(df)*.80)\n",
    "train_set_scaled = scaled_df[:percent80index]\n",
    "test_set_scaled = scaled_df[percent80index:]"
   ]
  },
  {
   "cell_type": "code",
   "execution_count": 123,
   "metadata": {},
   "outputs": [],
   "source": [
    "# Window size of 5 days\n",
    "days_past = 5\n",
    "num5minperday = (6 * 60 + 30) / 5 # this gets number of 5 minutes in a trading day excluding pre and post market hours\n",
    "n_past = int(num5minperday * days_past) # Use data from last 5 days\n",
    "n_future = 1 # Predict the next 5 minutes\n",
    "\n",
    "# Initalization variables to store LSTM tailored training sets for modelling\n",
    "x_train = []\n",
    "y_train = []\n"
   ]
  },
  {
   "cell_type": "code",
   "execution_count": 124,
   "metadata": {},
   "outputs": [],
   "source": [
    "# Construct x and y training sets\n",
    "\n",
    "for i in range(n_past,len(train_set_scaled)):\n",
    "    x_train.append(train_set_scaled[i-n_past:i,0:train_set_scaled.shape[1]])\n",
    "    y_train.append(train_set_scaled[i+1:i+n_future,0])"
   ]
  },
  {
   "cell_type": "code",
   "execution_count": 67,
   "metadata": {},
   "outputs": [],
   "source": [
    "# Convert from list to array\n",
    "x_train, y_train = np.array(x_train), np.array(y_train)"
   ]
  },
  {
   "cell_type": "code",
   "execution_count": 69,
   "metadata": {},
   "outputs": [],
   "source": [
    "x_train = np.reshape(x_train,(x_train.shape[0],x_train.shape[1],8))"
   ]
  }
 ],
 "metadata": {
  "kernelspec": {
   "display_name": "Python 3",
   "language": "python",
   "name": "python3"
  },
  "language_info": {
   "codemirror_mode": {
    "name": "ipython",
    "version": 3
   },
   "file_extension": ".py",
   "mimetype": "text/x-python",
   "name": "python",
   "nbconvert_exporter": "python",
   "pygments_lexer": "ipython3",
   "version": "3.11.4"
  }
 },
 "nbformat": 4,
 "nbformat_minor": 2
}
